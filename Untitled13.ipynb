{
 "cells": [
  {
   "cell_type": "code",
   "execution_count": 5,
   "id": "0303034b",
   "metadata": {},
   "outputs": [
    {
     "ename": "IndentationError",
     "evalue": "unindent does not match any outer indentation level (<tokenize>, line 24)",
     "output_type": "error",
     "traceback": [
      "\u001b[1;36m  File \u001b[1;32m\"<tokenize>\"\u001b[1;36m, line \u001b[1;32m24\u001b[0m\n\u001b[1;33m    output\u001b[0m\n\u001b[1;37m    ^\u001b[0m\n\u001b[1;31mIndentationError\u001b[0m\u001b[1;31m:\u001b[0m unindent does not match any outer indentation level\n"
     ]
    }
   ],
   "source": [
    "from bs4 import BeautifulSoup\n",
    "import requests\n",
    "for i in range(1,13):\n",
    "      url = BeautifulSoup(f'http://nepalstock.com/main/todays_price/index/{i}/', 'html.parser')\n",
    "      soup=requests.get(url)\n",
    "      soup\n",
    "      code=soup.text    #beautiful code parse garna mildaina     lxml brouser readble format\n",
    "      code\n",
    "      lxml_code=BeautifulSoup(code, \"lxml\") #browser le bujne format large xml file\n",
    "      lxml_code\n",
    "      lxml_code.table\n",
    "      table=lxml_code.table\n",
    "      tag=table.find_all('tr')    #list ko form ma ayera baseko xa\n",
    "      tag\n",
    "          tag[0].text.split('\\n')\n",
    "      for i in range(len(tag)):    #sabai ko value nikalana range use gariyo  list ko format ma ayo sabai data\n",
    "          print(tag[i].text.split('\\n')[1:-1])\n",
    "    output=[]\n",
    "      for i in range(len(tag)):    \n",
    "        datas=tag[i].text.split('\\n')[1:-1]\n",
    "        if datas[0]!='':\n",
    "          output.append(datas)\n",
    "\n",
    "    import csv\n",
    "    file=open('nepse_data.csv','w')\n",
    "    x=csv.writer(file)\n",
    "    for i in output:\n",
    "    x.writerow(i)\n",
    "# import pandas as pd\n",
    "  # df=pd.read_csv(\"nepse_data.csv\")\n",
    "  # df\n",
    "\n",
    "\n",
    "\n",
    "\n",
    "    "
   ]
  },
  {
   "cell_type": "code",
   "execution_count": null,
   "id": "65178b55",
   "metadata": {},
   "outputs": [],
   "source": []
  },
  {
   "cell_type": "code",
   "execution_count": null,
   "id": "bf57f222",
   "metadata": {},
   "outputs": [],
   "source": []
  },
  {
   "cell_type": "code",
   "execution_count": null,
   "id": "5615fa81",
   "metadata": {},
   "outputs": [],
   "source": []
  },
  {
   "cell_type": "code",
   "execution_count": null,
   "id": "c4727eaa",
   "metadata": {},
   "outputs": [],
   "source": []
  },
  {
   "cell_type": "code",
   "execution_count": null,
   "id": "f6b7beaa",
   "metadata": {},
   "outputs": [],
   "source": []
  }
 ],
 "metadata": {
  "kernelspec": {
   "display_name": "Python 3 (ipykernel)",
   "language": "python",
   "name": "python3"
  },
  "language_info": {
   "codemirror_mode": {
    "name": "ipython",
    "version": 3
   },
   "file_extension": ".py",
   "mimetype": "text/x-python",
   "name": "python",
   "nbconvert_exporter": "python",
   "pygments_lexer": "ipython3",
   "version": "3.9.7"
  }
 },
 "nbformat": 4,
 "nbformat_minor": 5
}
